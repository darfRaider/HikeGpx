{
 "cells": [
  {
   "cell_type": "code",
   "execution_count": null,
   "id": "f98895fc",
   "metadata": {},
   "outputs": [],
   "source": [
    "from pathlib import Path\n",
    "from HikeGpx.Gpx import GpxFile\n",
    "\n",
    "base_dir = Path(\"/home/sam/Documents/Routen\")\n",
    "filename = \"Taesch - Sunegga.gpx\""
   ]
  },
  {
   "cell_type": "code",
   "execution_count": null,
   "id": "4623bc6e",
   "metadata": {},
   "outputs": [],
   "source": [
    "Gpx."
   ]
  }
 ],
 "metadata": {
  "kernelspec": {
   "display_name": "base",
   "language": "python",
   "name": "python3"
  },
  "language_info": {
   "codemirror_mode": {
    "name": "ipython",
    "version": 3
   },
   "file_extension": ".py",
   "mimetype": "text/x-python",
   "name": "python",
   "nbconvert_exporter": "python",
   "pygments_lexer": "ipython3",
   "version": "3.12.4"
  }
 },
 "nbformat": 4,
 "nbformat_minor": 5
}
