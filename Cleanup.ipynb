{
 "cells": [
  {
   "cell_type": "code",
   "execution_count": null,
   "id": "e9e443d9",
   "metadata": {},
   "outputs": [],
   "source": [
    "from HikeGpx.Gpx.GpxFile import GpxFile\n",
    "from pathlib import Path\n",
    "\n",
    "GpxFile.from_swisstopo_file(\" \")\n",
    "\n"
   ]
  }
 ],
 "metadata": {
  "language_info": {
   "name": "python"
  }
 },
 "nbformat": 4,
 "nbformat_minor": 5
}
