{
 "cells": [
  {
   "cell_type": "code",
   "execution_count": null,
   "metadata": {},
   "outputs": [],
   "source": [
    "kml_data = \"\"\"8.543760107192696,47.46009108237709 8.543039113876544,47.4601356280639 8.542182747818082,47.46019819880993 8.541486341157274,47.46023831570165 8.540519275380676,47.46031866751611 8.539779855683825,47.460367552873926 8.538941816213713,47.46042155597992 8.53830744064788,47.460477802003204 8.537462883303716,47.46051511803864 8.53655098285779,47.460578174351696 8.53547885644525,47.46065111164481 8.534696416171043,47.460708741356505\"\"\"\n",
    "coords = [[float(y) for y in x.split(',')]+[0] for x in kml_data.split(\" \")]\n",
    "len(coords)"
   ]
  },
  {
   "cell_type": "code",
   "execution_count": null,
   "metadata": {},
   "outputs": [],
   "source": [
    "import unittest\n",
    "from HikeGpx.Gpx.GpxFile import GpxFile\n",
    "from HikeGpx.Gpx.Track import Track\n",
    "from HikeGpx.Gpx.Waypoint import Waypoint\n",
    "from HikeGpx.Gpx.Waypoint import WaypointType\n",
    "from HikeGpx.Coordinates.WGS84 import WGS84\n",
    "\n",
    "wpts = [\n",
    "    WaypointType.Coast,\n",
    "    WaypointType.Hotel,\n",
    "    WaypointType.Lodging,\n",
    "    WaypointType.Mountain,\n",
    "    WaypointType.Parking,\n",
    "    WaypointType.River,\n",
    "    WaypointType.Road,\n",
    "    WaypointType.Rock,\n",
    "    WaypointType.Sight,\n",
    "    WaypointType.Trail,\n",
    "    WaypointType.Valley,\n",
    "    WaypointType.Waterfall\n",
    "]"
   ]
  },
  {
   "cell_type": "code",
   "execution_count": null,
   "metadata": {},
   "outputs": [],
   "source": [
    "f = GpxFile(\"TestRoute\")\n",
    "for wpt, coord in zip(wpts, coords[0:len(wpts)]):\n",
    "    f.add_waypoint(Waypoint(WGS84(coord[1], coord[0]), wpt.value, None, wpt))\n",
    "\n",
    "f.add_track(Track.from_wpt_list(\"Test\", [[x[1], x[0], x[2]] for x in coords], 1))"
   ]
  },
  {
   "cell_type": "code",
   "execution_count": null,
   "metadata": {},
   "outputs": [],
   "source": [
    "print(str(f.root))"
   ]
  },
  {
   "cell_type": "code",
   "execution_count": null,
   "metadata": {},
   "outputs": [],
   "source": [
    "f.save(\"test.gpx\")"
   ]
  },
  {
   "cell_type": "code",
   "execution_count": 3,
   "metadata": {},
   "outputs": [],
   "source": [
    "from HikeGpx.Gpx.GpxFile import GpxFile\n",
    "from HikeGpx.Gpx.Track import Track\n",
    "from HikeGpx.Gpx.Waypoint import Waypoint\n",
    "from HikeGpx.Gpx.Waypoint import WaypointType\n",
    "from HikeGpx.Coordinates.WGS84 import WGS84\n",
    "\n",
    "data = [(46.57608333, 8.89241667, 2376),\n",
    "        (46.57619444, 8.89252778, 2375),\n",
    "        (46.57641667, 8.89266667, 2372),\n",
    "        (46.57650000, 8.89280556, 2373),\n",
    "        (46.57638889, 8.89302778, 2374),\n",
    "        (46.57652778, 8.89322222, 2375),\n",
    "        (46.57661111, 8.89344444, 2376)]\n",
    "\n",
    "f = GpxFile(\"TestRoute\")\n",
    "f.add_track(Track.from_wpt_list(\"Testtrack\", data, 1))\n",
    "wpt = Waypoint(\n",
    "    WGS84(46.57650000, 8.89280556),\n",
    "    \"TestWaypoint\",\n",
    "    2373,\n",
    "    WaypointType.Water)\n",
    "f.add_waypoint(wpt)\n",
    "f.save(\"test.gpx\")"
   ]
  },
  {
   "cell_type": "code",
   "execution_count": null,
   "metadata": {},
   "outputs": [],
   "source": []
  }
 ],
 "metadata": {
  "kernelspec": {
   "display_name": "base",
   "language": "python",
   "name": "python3"
  },
  "language_info": {
   "codemirror_mode": {
    "name": "ipython",
    "version": 3
   },
   "file_extension": ".py",
   "mimetype": "text/x-python",
   "name": "python",
   "nbconvert_exporter": "python",
   "pygments_lexer": "ipython3",
   "version": "3.12.4"
  }
 },
 "nbformat": 4,
 "nbformat_minor": 2
}
